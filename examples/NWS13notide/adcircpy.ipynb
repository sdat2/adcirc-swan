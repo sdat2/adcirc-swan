{
 "cells": [
  {
   "cell_type": "code",
   "execution_count": null,
   "metadata": {},
   "outputs": [
    {
     "ename": "",
     "evalue": "",
     "output_type": "error",
     "traceback": [
      "\u001b[1;31mFailed to start the Kernel. \n",
      "\u001b[1;31mUnable to start Kernel 'base (Python 3.10.13)' due to a timeout waiting for the ports to get used. \n",
      "\u001b[1;31mView Jupyter <a href='command:jupyter.viewOutput'>log</a> for further details."
     ]
    }
   ],
   "source": [
    "from datetime import timedelta\n",
    "\n",
    "from adcircpy import AdcircMesh, AdcircRun, Tides\n",
    "from adcircpy.forcing.winds import BestTrackForcing\n",
    "from adcircpy.server import SlurmConfig\n",
    "\n",
    "# load an ADCIRC mesh grid from a `fort.14` file to a new mesh object\n",
    "mesh = AdcircMesh.open(\"fort.14\", crs=\"epsg:4326\")\n",
    "\n",
    "# add nodal attributes from a `fort.13` file to the mesh object\n",
    "mesh.import_nodal_attributes(\"fort.13\")\n",
    "\n",
    "# create a tidal forcing object, using all constituents\n",
    "tidal_forcing = Tides()\n",
    "# tidal_forcing.use_all() # get rid of tides.\n",
    "\n",
    "# add data from the tidal forcing object to the mesh object\n",
    "mesh.add_forcing(tidal_forcing)\n",
    "\n",
    "# create a wind forcing object for Hurricane Sandy (2012)\n",
    "wind_forcing = BestTrackForcing(\"Sandy2012\")\n",
    "\n",
    "\n",
    "# add wind forcing data to the mesh object\n",
    "mesh.add_forcing(wind_forcing)\n",
    "\n",
    "# create a Slurm (HPC job manager) configuration object.\n",
    "slurm = SlurmConfig(\n",
    "    account=\"n01-SOWISE\",\n",
    "    ntasks=128,\n",
    "    run_name=\"ADCIRCpy-sandy2012\",\n",
    "    partition=\"standard\",\n",
    "    walltime=timedelta(minutes=20),\n",
    "    mail_type=\"all\",\n",
    "    mail_user=\"sdat2@cam.ac.uk\",\n",
    "    log_filename=\"example.log\",\n",
    "    modules=[\n",
    "        \"PrgEnv-gnu/8.3.3\",\n",
    "        \"cray-hdf5-parallel/1.12.2.1\",\n",
    "        \"cray-netcdf-hdf5parallel/4.9.0.1\",\n",
    "    ],\n",
    "    path_prefix=\"/work/n01/n01/sithom/adcirc-swan/0/adcirc/work\",\n",
    ")\n",
    "\n",
    "# create an ADCIRC run driver object\n",
    "driver = AdcircRun(\n",
    "    mesh=mesh,\n",
    "    server_config=slurm,\n",
    "    spinup_time=timedelta(days=15),\n",
    "    #output_interval=timedelta(hours=1),\n",
    "    #output_variables=[\"zeta\", \"u\", \"v\"],\n",
    "    output_netcdf=True,\n",
    "    output_directory=\"./model_outputs_sandy2012\",\n",
    "    # output_prefix=\"sandy2012\",\n",
    ")\n",
    "\n",
    "# write configuration files to the specified directory\n",
    "driver.write(output_directory=\"./model_inputs_sandy2012\")"
   ]
  },
  {
   "cell_type": "code",
   "execution_count": null,
   "metadata": {},
   "outputs": [
    {
     "ename": "",
     "evalue": "",
     "output_type": "error",
     "traceback": [
      "\u001b[1;31mFailed to start the Kernel. \n",
      "\u001b[1;31mUnable to start Kernel 'base (Python 3.10.13)' due to a timeout waiting for the ports to get used. \n",
      "\u001b[1;31mView Jupyter <a href='command:jupyter.viewOutput'>log</a> for further details."
     ]
    }
   ],
   "source": [
    "AdcircRun"
   ]
  },
  {
   "cell_type": "code",
   "execution_count": null,
   "metadata": {},
   "outputs": [],
   "source": []
  }
 ],
 "metadata": {
  "kernelspec": {
   "display_name": "base",
   "language": "python",
   "name": "python3"
  },
  "language_info": {
   "codemirror_mode": {
    "name": "ipython",
    "version": 3
   },
   "file_extension": ".py",
   "mimetype": "text/x-python",
   "name": "python",
   "nbconvert_exporter": "python",
   "pygments_lexer": "ipython3",
   "version": "3.10.13"
  }
 },
 "nbformat": 4,
 "nbformat_minor": 2
}
